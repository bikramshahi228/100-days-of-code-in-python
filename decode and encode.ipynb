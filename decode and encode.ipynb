{
 "cells": [
  {
   "cell_type": "code",
   "execution_count": 19,
   "id": "3af694c2",
   "metadata": {},
   "outputs": [
    {
     "name": "stdout",
     "output_type": "stream",
     "text": [
      "Type 'encode' to encrypt or type 'decode' to decrypt:\n",
      "decode\n",
      "Type your message\n",
      "mjqqt\n",
      "Type the shift number\n",
      "5\n"
     ]
    }
   ],
   "source": [
    "alphabet =['a','b','c','d','e','f','g','h','i','j','k','l','m','n','o','p','q','r','s','t','u','v','w','x','y','z']\n",
    "direction = input(\"Type 'encode' to encrypt or type 'decode' to decrypt:\\n\")\n",
    "text = input(\"Type your message\\n\").lower()\n",
    "shift = int(input(\"Type the shift number\\n\"))\n",
    "def encrypt(plain_text , shift_amount):\n",
    "    cipher_text= \"\"\n",
    "    for letter in plain_text:\n",
    "        position = alphabet.index(letter)\n",
    "        new_position = position + shift_amount\n",
    "        #new_letter = alphabet[new_position]\n",
    "       # cipher_text = new_letter\n",
    "        cipher_text +=alphabet[new_position]\n",
    "    print(f\"The encoded text is {cipher_text}\")\n",
    "   #for decryption \n",
    "def decrypt(cipher_text , shift_amount):\n",
    "    plain_text =\"\"\n",
    "    for letter in cipher_text:\n",
    "        position = alphabet.index(letter)\n",
    "        new_position = position - shift_amount\n",
    "        plain_text += alphabet[new_position]\n",
    "    print(f\"The decoded text is {plain_text}\")   \n",
    "    \n",
    " \n",
    "\n",
    "    \n",
    "#encrypt(plain_text=text,shift_amount=shift) \n"
   ]
  },
  {
   "cell_type": "code",
   "execution_count": 20,
   "id": "0b81cbaf",
   "metadata": {},
   "outputs": [
    {
     "name": "stdout",
     "output_type": "stream",
     "text": [
      "The decoded text is hello\n"
     ]
    }
   ],
   "source": [
    "if direction==\"encode\":\n",
    "    \n",
    "    encrypt(plain_text=text , shift_amount=shift)\n",
    "elif direction==\"decode\":\n",
    "    decrypt(cipher_text=text , shift_amount=shift)   "
   ]
  },
  {
   "cell_type": "code",
   "execution_count": 2,
   "id": "e15f07d7",
   "metadata": {},
   "outputs": [
    {
     "name": "stdout",
     "output_type": "stream",
     "text": [
      "Type 'encode' to encrypt or type 'decode' to decrypt:\n",
      "encode\n",
      "Type your message\n",
      "hello\n",
      "Type the shift number\n",
      "5\n",
      "The encoded text is mjqqt\n"
     ]
    }
   ],
   "source": [
    "alphabet =['a','b','c','d','e','f','g','h','i','j','k','l','m','n','o','p','q','r','s','t','u','v','w','x','y','z']\n",
    "direction = input(\"Type 'encode' to encrypt or type 'decode' to decrypt:\\n\")\n",
    "text = input(\"Type your message\\n\").lower()\n",
    "shift = int(input(\"Type the shift number\\n\"))\n",
    "def encrypt(plain_text , shift_amount):\n",
    "    cipher_text= \"\"\n",
    "    for letter in plain_text:\n",
    "        position = alphabet.index(letter)\n",
    "        new_position = position + shift_amount\n",
    "        #new_letter = alphabet[new_position]\n",
    "       # cipher_text = new_letter\n",
    "        cipher_text +=alphabet[new_position]\n",
    "    print(f\"The encoded text is {cipher_text}\")\n",
    "    \n",
    "    \n",
    "encrypt(plain_text = text , shift_amount=shift)    "
   ]
  },
  {
   "cell_type": "code",
   "execution_count": 5,
   "id": "b2138c05",
   "metadata": {},
   "outputs": [
    {
     "name": "stdout",
     "output_type": "stream",
     "text": [
      "Type 'encode' to encrypt or type 'decode' to decrypt:\n",
      "decode\n",
      "Type your message\n",
      "mjqqt\n",
      "Type the shift number\n",
      "5\n",
      "The decoded text is hello\n"
     ]
    }
   ],
   "source": [
    "alphabet =['a','b','c','d','e','f','g','h','i','j','k','l','m','n','o','p','q','r','s','t','u','v','w','x','y','z']\n",
    "direction = input(\"Type 'encode' to encrypt or type 'decode' to decrypt:\\n\")\n",
    "text = input(\"Type your message\\n\").lower()\n",
    "shift = int(input(\"Type the shift number\\n\"))\n",
    "def decrypt(cipher_text , shift_amount):\n",
    "    plain_text =\"\"\n",
    "    for letter in cipher_text:\n",
    "        position = alphabet.index(letter)\n",
    "        new_position = position - shift_amount\n",
    "        plain_text += alphabet[new_position]\n",
    "    print(f\"The decoded text is {plain_text}\")   \n",
    "decrypt(cipher_text=text,shift_amount=shift)    "
   ]
  },
  {
   "cell_type": "code",
   "execution_count": null,
   "id": "ab47f4fe",
   "metadata": {},
   "outputs": [],
   "source": []
  }
 ],
 "metadata": {
  "kernelspec": {
   "display_name": "Python 3 (ipykernel)",
   "language": "python",
   "name": "python3"
  },
  "language_info": {
   "codemirror_mode": {
    "name": "ipython",
    "version": 3
   },
   "file_extension": ".py",
   "mimetype": "text/x-python",
   "name": "python",
   "nbconvert_exporter": "python",
   "pygments_lexer": "ipython3",
   "version": "3.9.7"
  }
 },
 "nbformat": 4,
 "nbformat_minor": 5
}
